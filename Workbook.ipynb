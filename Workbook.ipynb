{
 "cells": [
  {
   "cell_type": "markdown",
   "id": "6edafc99",
   "metadata": {},
   "source": [
    "# Walmart Analysis Report\n",
    "\n",
    "#### By: Joann Balraj\n",
    "\n",
    "#### May 19, 2022\n",
    "\n",
    "### Project Goals:\n",
    " - Find what causes the store to do well or not (what makes Walmart busy). What makes Walmart to do well? What causes Walmart to have less business?\n",
    " - Document my process so that it can be presented to a non-data scientist, as well as read later like a report.\n",
    "\n",
    "### Project Description:\n",
    "One of the leading retail stores in the US, Walmart. I would like to predict the sales and demand accurately. There are certain events and holidays which impact sales on each day. There are sales data available for 45 stores of Walmart. The business is facing a challenge due to unforeseen demands and runs out of stock some times, due to the inappropriate machine learning algorithm. An ideal ML algorithm will predict demand accurately and ingest factors like economic conditions including CPI, Unemployment Index, etc."
   ]
  },
  {
   "cell_type": "code",
   "execution_count": 48,
   "id": "6afd5522",
   "metadata": {},
   "outputs": [],
   "source": [
    "# Import necessary libraries, etc.\n",
    "import pandas as pd\n",
    "import numpy as np\n",
    "import seaborn as sns\n",
    "import matplotlib.pyplot as plt\n",
    "%matplotlib inline\n",
    "\n",
    "import warnings\n",
    "warnings.filterwarnings('ignore') \n",
    "\n",
    "from datetime import datetime"
   ]
  },
  {
   "cell_type": "code",
   "execution_count": 49,
   "id": "6bd74750",
   "metadata": {},
   "outputs": [
    {
     "data": {
      "text/html": [
       "<div>\n",
       "<style scoped>\n",
       "    .dataframe tbody tr th:only-of-type {\n",
       "        vertical-align: middle;\n",
       "    }\n",
       "\n",
       "    .dataframe tbody tr th {\n",
       "        vertical-align: top;\n",
       "    }\n",
       "\n",
       "    .dataframe thead th {\n",
       "        text-align: right;\n",
       "    }\n",
       "</style>\n",
       "<table border=\"1\" class=\"dataframe\">\n",
       "  <thead>\n",
       "    <tr style=\"text-align: right;\">\n",
       "      <th></th>\n",
       "      <th>Unnamed: 0</th>\n",
       "      <th>Store</th>\n",
       "      <th>Date</th>\n",
       "      <th>IsHoliday</th>\n",
       "      <th>Dept</th>\n",
       "      <th>Weekly_Sales</th>\n",
       "      <th>Temperature</th>\n",
       "      <th>Fuel_Price</th>\n",
       "      <th>MarkDown1</th>\n",
       "      <th>MarkDown2</th>\n",
       "      <th>MarkDown3</th>\n",
       "      <th>MarkDown4</th>\n",
       "      <th>MarkDown5</th>\n",
       "      <th>CPI</th>\n",
       "      <th>Unemployment</th>\n",
       "      <th>Type</th>\n",
       "      <th>Size</th>\n",
       "    </tr>\n",
       "  </thead>\n",
       "  <tbody>\n",
       "    <tr>\n",
       "      <th>0</th>\n",
       "      <td>0</td>\n",
       "      <td>1</td>\n",
       "      <td>2010-02-05</td>\n",
       "      <td>0</td>\n",
       "      <td>1.0</td>\n",
       "      <td>24924.50</td>\n",
       "      <td>42.31</td>\n",
       "      <td>2.572</td>\n",
       "      <td>0.0</td>\n",
       "      <td>0.0</td>\n",
       "      <td>0.0</td>\n",
       "      <td>0.0</td>\n",
       "      <td>0.0</td>\n",
       "      <td>211.096358</td>\n",
       "      <td>8.106</td>\n",
       "      <td>3</td>\n",
       "      <td>151315</td>\n",
       "    </tr>\n",
       "    <tr>\n",
       "      <th>1</th>\n",
       "      <td>1</td>\n",
       "      <td>1</td>\n",
       "      <td>2010-02-05</td>\n",
       "      <td>0</td>\n",
       "      <td>26.0</td>\n",
       "      <td>11737.12</td>\n",
       "      <td>42.31</td>\n",
       "      <td>2.572</td>\n",
       "      <td>0.0</td>\n",
       "      <td>0.0</td>\n",
       "      <td>0.0</td>\n",
       "      <td>0.0</td>\n",
       "      <td>0.0</td>\n",
       "      <td>211.096358</td>\n",
       "      <td>8.106</td>\n",
       "      <td>3</td>\n",
       "      <td>151315</td>\n",
       "    </tr>\n",
       "    <tr>\n",
       "      <th>2</th>\n",
       "      <td>2</td>\n",
       "      <td>1</td>\n",
       "      <td>2010-02-05</td>\n",
       "      <td>0</td>\n",
       "      <td>17.0</td>\n",
       "      <td>13223.76</td>\n",
       "      <td>42.31</td>\n",
       "      <td>2.572</td>\n",
       "      <td>0.0</td>\n",
       "      <td>0.0</td>\n",
       "      <td>0.0</td>\n",
       "      <td>0.0</td>\n",
       "      <td>0.0</td>\n",
       "      <td>211.096358</td>\n",
       "      <td>8.106</td>\n",
       "      <td>3</td>\n",
       "      <td>151315</td>\n",
       "    </tr>\n",
       "    <tr>\n",
       "      <th>3</th>\n",
       "      <td>3</td>\n",
       "      <td>1</td>\n",
       "      <td>2010-02-05</td>\n",
       "      <td>0</td>\n",
       "      <td>45.0</td>\n",
       "      <td>37.44</td>\n",
       "      <td>42.31</td>\n",
       "      <td>2.572</td>\n",
       "      <td>0.0</td>\n",
       "      <td>0.0</td>\n",
       "      <td>0.0</td>\n",
       "      <td>0.0</td>\n",
       "      <td>0.0</td>\n",
       "      <td>211.096358</td>\n",
       "      <td>8.106</td>\n",
       "      <td>3</td>\n",
       "      <td>151315</td>\n",
       "    </tr>\n",
       "    <tr>\n",
       "      <th>4</th>\n",
       "      <td>4</td>\n",
       "      <td>1</td>\n",
       "      <td>2010-02-05</td>\n",
       "      <td>0</td>\n",
       "      <td>28.0</td>\n",
       "      <td>1085.29</td>\n",
       "      <td>42.31</td>\n",
       "      <td>2.572</td>\n",
       "      <td>0.0</td>\n",
       "      <td>0.0</td>\n",
       "      <td>0.0</td>\n",
       "      <td>0.0</td>\n",
       "      <td>0.0</td>\n",
       "      <td>211.096358</td>\n",
       "      <td>8.106</td>\n",
       "      <td>3</td>\n",
       "      <td>151315</td>\n",
       "    </tr>\n",
       "  </tbody>\n",
       "</table>\n",
       "</div>"
      ],
      "text/plain": [
       "   Unnamed: 0  Store        Date  IsHoliday  Dept  Weekly_Sales  Temperature  \\\n",
       "0           0      1  2010-02-05          0   1.0      24924.50        42.31   \n",
       "1           1      1  2010-02-05          0  26.0      11737.12        42.31   \n",
       "2           2      1  2010-02-05          0  17.0      13223.76        42.31   \n",
       "3           3      1  2010-02-05          0  45.0         37.44        42.31   \n",
       "4           4      1  2010-02-05          0  28.0       1085.29        42.31   \n",
       "\n",
       "   Fuel_Price  MarkDown1  MarkDown2  MarkDown3  MarkDown4  MarkDown5  \\\n",
       "0       2.572        0.0        0.0        0.0        0.0        0.0   \n",
       "1       2.572        0.0        0.0        0.0        0.0        0.0   \n",
       "2       2.572        0.0        0.0        0.0        0.0        0.0   \n",
       "3       2.572        0.0        0.0        0.0        0.0        0.0   \n",
       "4       2.572        0.0        0.0        0.0        0.0        0.0   \n",
       "\n",
       "          CPI  Unemployment  Type    Size  \n",
       "0  211.096358         8.106     3  151315  \n",
       "1  211.096358         8.106     3  151315  \n",
       "2  211.096358         8.106     3  151315  \n",
       "3  211.096358         8.106     3  151315  \n",
       "4  211.096358         8.106     3  151315  "
      ]
     },
     "execution_count": 49,
     "metadata": {},
     "output_type": "execute_result"
    }
   ],
   "source": [
    "# Read local .csv downloaded from kaggle.com and store data in a dataframe\n",
    "df = pd.read_csv('walmart_cleaned.csv')\n",
    "df.head()"
   ]
  },
  {
   "cell_type": "code",
   "execution_count": 50,
   "id": "4d45dda5",
   "metadata": {},
   "outputs": [
    {
     "name": "stdout",
     "output_type": "stream",
     "text": [
      "<class 'pandas.core.frame.DataFrame'>\n",
      "RangeIndex: 421570 entries, 0 to 421569\n",
      "Data columns (total 17 columns):\n",
      " #   Column        Non-Null Count   Dtype  \n",
      "---  ------        --------------   -----  \n",
      " 0   Unnamed: 0    421570 non-null  int64  \n",
      " 1   Store         421570 non-null  int64  \n",
      " 2   Date          421570 non-null  object \n",
      " 3   IsHoliday     421570 non-null  int64  \n",
      " 4   Dept          421570 non-null  float64\n",
      " 5   Weekly_Sales  421570 non-null  float64\n",
      " 6   Temperature   421570 non-null  float64\n",
      " 7   Fuel_Price    421570 non-null  float64\n",
      " 8   MarkDown1     421570 non-null  float64\n",
      " 9   MarkDown2     421570 non-null  float64\n",
      " 10  MarkDown3     421570 non-null  float64\n",
      " 11  MarkDown4     421570 non-null  float64\n",
      " 12  MarkDown5     421570 non-null  float64\n",
      " 13  CPI           421570 non-null  float64\n",
      " 14  Unemployment  421570 non-null  float64\n",
      " 15  Type          421570 non-null  int64  \n",
      " 16  Size          421570 non-null  int64  \n",
      "dtypes: float64(11), int64(5), object(1)\n",
      "memory usage: 54.7+ MB\n"
     ]
    }
   ],
   "source": [
    "df.info()"
   ]
  },
  {
   "cell_type": "code",
   "execution_count": 51,
   "id": "796c2af7",
   "metadata": {},
   "outputs": [
    {
     "data": {
      "text/html": [
       "<div>\n",
       "<style scoped>\n",
       "    .dataframe tbody tr th:only-of-type {\n",
       "        vertical-align: middle;\n",
       "    }\n",
       "\n",
       "    .dataframe tbody tr th {\n",
       "        vertical-align: top;\n",
       "    }\n",
       "\n",
       "    .dataframe thead th {\n",
       "        text-align: right;\n",
       "    }\n",
       "</style>\n",
       "<table border=\"1\" class=\"dataframe\">\n",
       "  <thead>\n",
       "    <tr style=\"text-align: right;\">\n",
       "      <th></th>\n",
       "      <th>Unnamed: 0</th>\n",
       "      <th>Store</th>\n",
       "      <th>Date</th>\n",
       "      <th>IsHoliday</th>\n",
       "      <th>Dept</th>\n",
       "      <th>Weekly_Sales</th>\n",
       "      <th>Temperature</th>\n",
       "      <th>Fuel_Price</th>\n",
       "      <th>MarkDown1</th>\n",
       "      <th>MarkDown2</th>\n",
       "      <th>MarkDown3</th>\n",
       "      <th>MarkDown4</th>\n",
       "      <th>MarkDown5</th>\n",
       "      <th>CPI</th>\n",
       "      <th>Unemployment</th>\n",
       "      <th>Type</th>\n",
       "      <th>Size</th>\n",
       "    </tr>\n",
       "  </thead>\n",
       "  <tbody>\n",
       "    <tr>\n",
       "      <th>Type</th>\n",
       "      <td>int64</td>\n",
       "      <td>int64</td>\n",
       "      <td>object</td>\n",
       "      <td>int64</td>\n",
       "      <td>float64</td>\n",
       "      <td>float64</td>\n",
       "      <td>float64</td>\n",
       "      <td>float64</td>\n",
       "      <td>float64</td>\n",
       "      <td>float64</td>\n",
       "      <td>float64</td>\n",
       "      <td>float64</td>\n",
       "      <td>float64</td>\n",
       "      <td>float64</td>\n",
       "      <td>float64</td>\n",
       "      <td>int64</td>\n",
       "      <td>int64</td>\n",
       "    </tr>\n",
       "  </tbody>\n",
       "</table>\n",
       "</div>"
      ],
      "text/plain": [
       "     Unnamed: 0  Store    Date IsHoliday     Dept Weekly_Sales Temperature  \\\n",
       "Type      int64  int64  object     int64  float64      float64     float64   \n",
       "\n",
       "     Fuel_Price MarkDown1 MarkDown2 MarkDown3 MarkDown4 MarkDown5      CPI  \\\n",
       "Type    float64   float64   float64   float64   float64   float64  float64   \n",
       "\n",
       "     Unemployment   Type   Size  \n",
       "Type      float64  int64  int64  "
      ]
     },
     "execution_count": 51,
     "metadata": {},
     "output_type": "execute_result"
    }
   ],
   "source": [
    "pd.DataFrame(df.dtypes, columns=['Type']).T"
   ]
  },
  {
   "cell_type": "markdown",
   "id": "fd44a889",
   "metadata": {},
   "source": [
    "## Data Preprocessing"
   ]
  },
  {
   "cell_type": "code",
   "execution_count": 52,
   "id": "0ace4f34",
   "metadata": {},
   "outputs": [],
   "source": [
    "# Converting to dateime where needed\n",
    "\n",
    "df['Date'] = pd.to_datetime(df['Date'])\n",
    "df['Year'] = pd.to_datetime(df['Date']).dt.year\n",
    "df['Month'] = pd.to_datetime(df['Date']).dt.month\n",
    "df['Week'] = pd.to_datetime(df['Date']).dt.week\n",
    "df['DayOfTheWeek'] = df['Date'].dt.dayofweek\n",
    "df['Day'] = pd.to_datetime(df['Date']).dt.day"
   ]
  },
  {
   "cell_type": "code",
   "execution_count": 53,
   "id": "5611961d",
   "metadata": {},
   "outputs": [
    {
     "data": {
      "text/html": [
       "<div>\n",
       "<style scoped>\n",
       "    .dataframe tbody tr th:only-of-type {\n",
       "        vertical-align: middle;\n",
       "    }\n",
       "\n",
       "    .dataframe tbody tr th {\n",
       "        vertical-align: top;\n",
       "    }\n",
       "\n",
       "    .dataframe thead th {\n",
       "        text-align: right;\n",
       "    }\n",
       "</style>\n",
       "<table border=\"1\" class=\"dataframe\">\n",
       "  <thead>\n",
       "    <tr style=\"text-align: right;\">\n",
       "      <th></th>\n",
       "      <th>Unnamed: 0</th>\n",
       "      <th>Store</th>\n",
       "      <th>Date</th>\n",
       "      <th>IsHoliday</th>\n",
       "      <th>Dept</th>\n",
       "      <th>Weekly_Sales</th>\n",
       "      <th>Temperature</th>\n",
       "      <th>Fuel_Price</th>\n",
       "      <th>MarkDown1</th>\n",
       "      <th>MarkDown2</th>\n",
       "      <th>...</th>\n",
       "      <th>MarkDown5</th>\n",
       "      <th>CPI</th>\n",
       "      <th>Unemployment</th>\n",
       "      <th>Type</th>\n",
       "      <th>Size</th>\n",
       "      <th>Year</th>\n",
       "      <th>Month</th>\n",
       "      <th>Week</th>\n",
       "      <th>DayOfTheWeek</th>\n",
       "      <th>Day</th>\n",
       "    </tr>\n",
       "  </thead>\n",
       "  <tbody>\n",
       "    <tr>\n",
       "      <th>Type</th>\n",
       "      <td>int64</td>\n",
       "      <td>int64</td>\n",
       "      <td>datetime64[ns]</td>\n",
       "      <td>int64</td>\n",
       "      <td>float64</td>\n",
       "      <td>float64</td>\n",
       "      <td>float64</td>\n",
       "      <td>float64</td>\n",
       "      <td>float64</td>\n",
       "      <td>float64</td>\n",
       "      <td>...</td>\n",
       "      <td>float64</td>\n",
       "      <td>float64</td>\n",
       "      <td>float64</td>\n",
       "      <td>int64</td>\n",
       "      <td>int64</td>\n",
       "      <td>int64</td>\n",
       "      <td>int64</td>\n",
       "      <td>int64</td>\n",
       "      <td>int64</td>\n",
       "      <td>int64</td>\n",
       "    </tr>\n",
       "  </tbody>\n",
       "</table>\n",
       "<p>1 rows × 22 columns</p>\n",
       "</div>"
      ],
      "text/plain": [
       "     Unnamed: 0  Store            Date IsHoliday     Dept Weekly_Sales  \\\n",
       "Type      int64  int64  datetime64[ns]     int64  float64      float64   \n",
       "\n",
       "     Temperature Fuel_Price MarkDown1 MarkDown2  ... MarkDown5      CPI  \\\n",
       "Type     float64    float64   float64   float64  ...   float64  float64   \n",
       "\n",
       "     Unemployment   Type   Size   Year  Month   Week DayOfTheWeek    Day  \n",
       "Type      float64  int64  int64  int64  int64  int64        int64  int64  \n",
       "\n",
       "[1 rows x 22 columns]"
      ]
     },
     "execution_count": 53,
     "metadata": {},
     "output_type": "execute_result"
    }
   ],
   "source": [
    "# Checking that the Date column Dtype is in fact changed\n",
    "pd.DataFrame(df.dtypes, columns=['Type']).T"
   ]
  },
  {
   "cell_type": "code",
   "execution_count": 54,
   "id": "c71b6579",
   "metadata": {},
   "outputs": [
    {
     "data": {
      "text/plain": [
       "Unnamed: 0      0\n",
       "Store           0\n",
       "Date            0\n",
       "IsHoliday       0\n",
       "Dept            0\n",
       "Weekly_Sales    0\n",
       "Temperature     0\n",
       "Fuel_Price      0\n",
       "MarkDown1       0\n",
       "MarkDown2       0\n",
       "MarkDown3       0\n",
       "MarkDown4       0\n",
       "MarkDown5       0\n",
       "CPI             0\n",
       "Unemployment    0\n",
       "Type            0\n",
       "Size            0\n",
       "Year            0\n",
       "Month           0\n",
       "Week            0\n",
       "DayOfTheWeek    0\n",
       "Day             0\n",
       "dtype: int64"
      ]
     },
     "execution_count": 54,
     "metadata": {},
     "output_type": "execute_result"
    }
   ],
   "source": [
    "# Checking null values\n",
    "df.isna().sum()"
   ]
  },
  {
   "cell_type": "markdown",
   "id": "1e734cf4",
   "metadata": {},
   "source": [
    "Dataset description was correct - there are in fact no nulls\n",
    "\n",
    "____\n",
    "\n",
    "\n",
    "### Do we really need the markdown columns?"
   ]
  },
  {
   "cell_type": "code",
   "execution_count": 55,
   "id": "43f18d8b",
   "metadata": {
    "scrolled": true
   },
   "outputs": [
    {
     "data": {
      "image/png": "[encoded data removed]",
      "text/plain": [
       "<Figure size 432x288 with 1 Axes>"
      ]
     },
     "metadata": {
      "needs_background": "light"
     },
     "output_type": "display_data"
    }
   ],
   "source": [
    "df['MarkDown1'].hist(), df['MarkDown2'].hist(), df['MarkDown3'].hist(), df['MarkDown4'].hist(), df['MarkDown5'].hist();"
   ]
  },
  {
   "cell_type": "markdown",
   "id": "a11cd45c",
   "metadata": {},
   "source": [
    "Above, all of the 5 markdown columns are plotted. Seeing as the differences between the 5 are barely noticeable, I will go ahead and drop these columns."
   ]
  },
  {
   "cell_type": "code",
   "execution_count": 56,
   "id": "dc73cf67",
   "metadata": {},
   "outputs": [],
   "source": [
    "df = df.drop(columns=['MarkDown1', 'MarkDown2', 'MarkDown3', 'MarkDown4', 'MarkDown5'])"
   ]
  },
  {
   "cell_type": "code",
   "execution_count": 57,
   "id": "87bd1182",
   "metadata": {},
   "outputs": [
    {
     "data": {
      "text/html": [
       "<div>\n",
       "<style scoped>\n",
       "    .dataframe tbody tr th:only-of-type {\n",
       "        vertical-align: middle;\n",
       "    }\n",
       "\n",
       "    .dataframe tbody tr th {\n",
       "        vertical-align: top;\n",
       "    }\n",
       "\n",
       "    .dataframe thead th {\n",
       "        text-align: right;\n",
       "    }\n",
       "</style>\n",
       "<table border=\"1\" class=\"dataframe\">\n",
       "  <thead>\n",
       "    <tr style=\"text-align: right;\">\n",
       "      <th></th>\n",
       "      <th>Unnamed: 0</th>\n",
       "      <th>Store</th>\n",
       "      <th>Date</th>\n",
       "      <th>IsHoliday</th>\n",
       "      <th>Dept</th>\n",
       "      <th>Weekly_Sales</th>\n",
       "      <th>Temperature</th>\n",
       "      <th>Fuel_Price</th>\n",
       "      <th>CPI</th>\n",
       "      <th>Unemployment</th>\n",
       "      <th>Type</th>\n",
       "      <th>Size</th>\n",
       "      <th>Year</th>\n",
       "      <th>Month</th>\n",
       "      <th>Week</th>\n",
       "      <th>DayOfTheWeek</th>\n",
       "      <th>Day</th>\n",
       "    </tr>\n",
       "  </thead>\n",
       "  <tbody>\n",
       "    <tr>\n",
       "      <th>182</th>\n",
       "      <td>182</td>\n",
       "      <td>1</td>\n",
       "      <td>2010-02-19</td>\n",
       "      <td>0</td>\n",
       "      <td>47.0</td>\n",
       "      <td>-863.00</td>\n",
       "      <td>39.93</td>\n",
       "      <td>2.514</td>\n",
       "      <td>211.289143</td>\n",
       "      <td>8.106</td>\n",
       "      <td>3</td>\n",
       "      <td>151315</td>\n",
       "      <td>2010</td>\n",
       "      <td>2</td>\n",
       "      <td>7</td>\n",
       "      <td>4</td>\n",
       "      <td>19</td>\n",
       "    </tr>\n",
       "    <tr>\n",
       "      <th>429</th>\n",
       "      <td>429</td>\n",
       "      <td>1</td>\n",
       "      <td>2010-03-12</td>\n",
       "      <td>0</td>\n",
       "      <td>47.0</td>\n",
       "      <td>-698.00</td>\n",
       "      <td>57.79</td>\n",
       "      <td>2.667</td>\n",
       "      <td>211.380643</td>\n",
       "      <td>8.106</td>\n",
       "      <td>3</td>\n",
       "      <td>151315</td>\n",
       "      <td>2010</td>\n",
       "      <td>3</td>\n",
       "      <td>10</td>\n",
       "      <td>4</td>\n",
       "      <td>12</td>\n",
       "    </tr>\n",
       "    <tr>\n",
       "      <th>2555</th>\n",
       "      <td>2555</td>\n",
       "      <td>1</td>\n",
       "      <td>2010-10-08</td>\n",
       "      <td>0</td>\n",
       "      <td>47.0</td>\n",
       "      <td>-58.00</td>\n",
       "      <td>63.93</td>\n",
       "      <td>2.633</td>\n",
       "      <td>211.746754</td>\n",
       "      <td>7.838</td>\n",
       "      <td>3</td>\n",
       "      <td>151315</td>\n",
       "      <td>2010</td>\n",
       "      <td>10</td>\n",
       "      <td>40</td>\n",
       "      <td>4</td>\n",
       "      <td>8</td>\n",
       "    </tr>\n",
       "    <tr>\n",
       "      <th>3632</th>\n",
       "      <td>3632</td>\n",
       "      <td>1</td>\n",
       "      <td>2011-01-21</td>\n",
       "      <td>0</td>\n",
       "      <td>54.0</td>\n",
       "      <td>-50.00</td>\n",
       "      <td>44.04</td>\n",
       "      <td>3.016</td>\n",
       "      <td>211.827234</td>\n",
       "      <td>7.742</td>\n",
       "      <td>3</td>\n",
       "      <td>151315</td>\n",
       "      <td>2011</td>\n",
       "      <td>1</td>\n",
       "      <td>3</td>\n",
       "      <td>4</td>\n",
       "      <td>21</td>\n",
       "    </tr>\n",
       "    <tr>\n",
       "      <th>4109</th>\n",
       "      <td>4109</td>\n",
       "      <td>1</td>\n",
       "      <td>2011-03-11</td>\n",
       "      <td>0</td>\n",
       "      <td>47.0</td>\n",
       "      <td>0.00</td>\n",
       "      <td>53.56</td>\n",
       "      <td>3.459</td>\n",
       "      <td>214.111056</td>\n",
       "      <td>7.742</td>\n",
       "      <td>3</td>\n",
       "      <td>151315</td>\n",
       "      <td>2011</td>\n",
       "      <td>3</td>\n",
       "      <td>10</td>\n",
       "      <td>4</td>\n",
       "      <td>11</td>\n",
       "    </tr>\n",
       "    <tr>\n",
       "      <th>...</th>\n",
       "      <td>...</td>\n",
       "      <td>...</td>\n",
       "      <td>...</td>\n",
       "      <td>...</td>\n",
       "      <td>...</td>\n",
       "      <td>...</td>\n",
       "      <td>...</td>\n",
       "      <td>...</td>\n",
       "      <td>...</td>\n",
       "      <td>...</td>\n",
       "      <td>...</td>\n",
       "      <td>...</td>\n",
       "      <td>...</td>\n",
       "      <td>...</td>\n",
       "      <td>...</td>\n",
       "      <td>...</td>\n",
       "      <td>...</td>\n",
       "    </tr>\n",
       "    <tr>\n",
       "      <th>420031</th>\n",
       "      <td>421747</td>\n",
       "      <td>45</td>\n",
       "      <td>2012-05-25</td>\n",
       "      <td>0</td>\n",
       "      <td>49.0</td>\n",
       "      <td>-4.97</td>\n",
       "      <td>67.21</td>\n",
       "      <td>3.798</td>\n",
       "      <td>191.002810</td>\n",
       "      <td>8.567</td>\n",
       "      <td>2</td>\n",
       "      <td>118221</td>\n",
       "      <td>2012</td>\n",
       "      <td>5</td>\n",
       "      <td>21</td>\n",
       "      <td>4</td>\n",
       "      <td>25</td>\n",
       "    </tr>\n",
       "    <tr>\n",
       "      <th>420370</th>\n",
       "      <td>422086</td>\n",
       "      <td>45</td>\n",
       "      <td>2012-06-29</td>\n",
       "      <td>0</td>\n",
       "      <td>49.0</td>\n",
       "      <td>-34.00</td>\n",
       "      <td>75.22</td>\n",
       "      <td>3.506</td>\n",
       "      <td>191.099246</td>\n",
       "      <td>8.567</td>\n",
       "      <td>2</td>\n",
       "      <td>118221</td>\n",
       "      <td>2012</td>\n",
       "      <td>6</td>\n",
       "      <td>26</td>\n",
       "      <td>4</td>\n",
       "      <td>29</td>\n",
       "    </tr>\n",
       "    <tr>\n",
       "      <th>420736</th>\n",
       "      <td>422452</td>\n",
       "      <td>45</td>\n",
       "      <td>2012-08-03</td>\n",
       "      <td>0</td>\n",
       "      <td>49.0</td>\n",
       "      <td>-1.91</td>\n",
       "      <td>76.58</td>\n",
       "      <td>3.654</td>\n",
       "      <td>191.164090</td>\n",
       "      <td>8.684</td>\n",
       "      <td>2</td>\n",
       "      <td>118221</td>\n",
       "      <td>2012</td>\n",
       "      <td>8</td>\n",
       "      <td>31</td>\n",
       "      <td>4</td>\n",
       "      <td>3</td>\n",
       "    </tr>\n",
       "    <tr>\n",
       "      <th>421016</th>\n",
       "      <td>422732</td>\n",
       "      <td>45</td>\n",
       "      <td>2012-08-31</td>\n",
       "      <td>0</td>\n",
       "      <td>54.0</td>\n",
       "      <td>0.00</td>\n",
       "      <td>75.09</td>\n",
       "      <td>3.867</td>\n",
       "      <td>191.461281</td>\n",
       "      <td>8.684</td>\n",
       "      <td>2</td>\n",
       "      <td>118221</td>\n",
       "      <td>2012</td>\n",
       "      <td>8</td>\n",
       "      <td>35</td>\n",
       "      <td>4</td>\n",
       "      <td>31</td>\n",
       "    </tr>\n",
       "    <tr>\n",
       "      <th>421131</th>\n",
       "      <td>422847</td>\n",
       "      <td>45</td>\n",
       "      <td>2012-09-14</td>\n",
       "      <td>0</td>\n",
       "      <td>49.0</td>\n",
       "      <td>-6.83</td>\n",
       "      <td>67.87</td>\n",
       "      <td>3.948</td>\n",
       "      <td>191.699850</td>\n",
       "      <td>8.684</td>\n",
       "      <td>2</td>\n",
       "      <td>118221</td>\n",
       "      <td>2012</td>\n",
       "      <td>9</td>\n",
       "      <td>37</td>\n",
       "      <td>4</td>\n",
       "      <td>14</td>\n",
       "    </tr>\n",
       "  </tbody>\n",
       "</table>\n",
       "<p>1358 rows × 17 columns</p>\n",
       "</div>"
      ],
      "text/plain": [
       "        Unnamed: 0  Store       Date  IsHoliday  Dept  Weekly_Sales  \\\n",
       "182            182      1 2010-02-19          0  47.0       -863.00   \n",
       "429            429      1 2010-03-12          0  47.0       -698.00   \n",
       "2555          2555      1 2010-10-08          0  47.0        -58.00   \n",
       "3632          3632      1 2011-01-21          0  54.0        -50.00   \n",
       "4109          4109      1 2011-03-11          0  47.0          0.00   \n",
       "...            ...    ...        ...        ...   ...           ...   \n",
       "420031      421747     45 2012-05-25          0  49.0         -4.97   \n",
       "420370      422086     45 2012-06-29          0  49.0        -34.00   \n",
       "420736      422452     45 2012-08-03          0  49.0         -1.91   \n",
       "421016      422732     45 2012-08-31          0  54.0          0.00   \n",
       "421131      422847     45 2012-09-14          0  49.0         -6.83   \n",
       "\n",
       "        Temperature  Fuel_Price         CPI  Unemployment  Type    Size  Year  \\\n",
       "182           39.93       2.514  211.289143         8.106     3  151315  2010   \n",
       "429           57.79       2.667  211.380643         8.106     3  151315  2010   \n",
       "2555          63.93       2.633  211.746754         7.838     3  151315  2010   \n",
       "3632          44.04       3.016  211.827234         7.742     3  151315  2011   \n",
       "4109          53.56       3.459  214.111056         7.742     3  151315  2011   \n",
       "...             ...         ...         ...           ...   ...     ...   ...   \n",
       "420031        67.21       3.798  191.002810         8.567     2  118221  2012   \n",
       "420370        75.22       3.506  191.099246         8.567     2  118221  2012   \n",
       "420736        76.58       3.654  191.164090         8.684     2  118221  2012   \n",
       "421016        75.09       3.867  191.461281         8.684     2  118221  2012   \n",
       "421131        67.87       3.948  191.699850         8.684     2  118221  2012   \n",
       "\n",
       "        Month  Week  DayOfTheWeek  Day  \n",
       "182         2     7             4   19  \n",
       "429         3    10             4   12  \n",
       "2555       10    40             4    8  \n",
       "3632        1     3             4   21  \n",
       "4109        3    10             4   11  \n",
       "...       ...   ...           ...  ...  \n",
       "420031      5    21             4   25  \n",
       "420370      6    26             4   29  \n",
       "420736      8    31             4    3  \n",
       "421016      8    35             4   31  \n",
       "421131      9    37             4   14  \n",
       "\n",
       "[1358 rows x 17 columns]"
      ]
     },
     "execution_count": 57,
     "metadata": {},
     "output_type": "execute_result"
    }
   ],
   "source": [
    "# Checking to see if there are any values with no weekly sales\n",
    "df.loc[df['Weekly_Sales']<=0]"
   ]
  },
  {
   "cell_type": "code",
   "execution_count": 61,
   "id": "538a9040",
   "metadata": {},
   "outputs": [],
   "source": [
    "# Glad I checked! dropping these columns now:\n",
    "df.drop(df.index[df['Weekly_Sales'] <= 0], inplace = True)"
   ]
  },
  {
   "cell_type": "markdown",
   "id": "35fb8ac7",
   "metadata": {},
   "source": [
    "____\n",
    "\n",
    "## How do holidays affects sales?"
   ]
  },
  {
   "cell_type": "code",
   "execution_count": 63,
   "id": "788772b0",
   "metadata": {},
   "outputs": [],
   "source": [
    "holiday = df[df['IsHoliday'] == 1]\n",
    "not_holiday = df[df['IsHoliday'] == 0]"
   ]
  },
  {
   "cell_type": "code",
   "execution_count": 64,
   "id": "a2f1ea2a",
   "metadata": {},
   "outputs": [
    {
     "data": {
      "image/png": "[encoded data removed]",
      "text/plain": [
       "<Figure size 432x288 with 1 Axes>"
      ]
     },
     "metadata": {
      "needs_background": "light"
     },
     "output_type": "display_data"
    }
   ],
   "source": [
    "holiday.Weekly_Sales.hist();"
   ]
  },
  {
   "cell_type": "code",
   "execution_count": 65,
   "id": "842f9cc2",
   "metadata": {},
   "outputs": [
    {
     "data": {
      "image/png": "[encoded data removed]",
      "text/plain": [
       "<Figure size 432x288 with 1 Axes>"
      ]
     },
     "metadata": {
      "needs_background": "light"
     },
     "output_type": "display_data"
    }
   ],
   "source": [
    "not_holiday.Weekly_Sales.hist();"
   ]
  },
  {
   "cell_type": "markdown",
   "id": "653bb380",
   "metadata": {},
   "source": [
    "Sales appear to be higher when it is not a holiday. \n",
    " - Could this be due to people shopping before or after a holiday? (maybe discounts, store closed, need items like presents before date, etc.)\n",
    " - Or could this be due to different sample sizes?"
   ]
  },
  {
   "cell_type": "code",
   "execution_count": 66,
   "id": "8519bda0",
   "metadata": {},
   "outputs": [
    {
     "data": {
      "text/plain": [
       "390652"
      ]
     },
     "execution_count": 66,
     "metadata": {},
     "output_type": "execute_result"
    }
   ],
   "source": [
    "not_holiday.Weekly_Sales.count()"
   ]
  },
  {
   "cell_type": "code",
   "execution_count": 67,
   "id": "8757fc09",
   "metadata": {},
   "outputs": [
    {
     "data": {
      "text/plain": [
       "29560"
      ]
     },
     "execution_count": 67,
     "metadata": {},
     "output_type": "execute_result"
    }
   ],
   "source": [
    "holiday.Weekly_Sales.count()"
   ]
  },
  {
   "cell_type": "markdown",
   "id": "b605bfce",
   "metadata": {},
   "source": [
    "____\n",
    "\n",
    "### How do weekly sales vary by month?"
   ]
  },
  {
   "cell_type": "code",
   "execution_count": 68,
   "id": "24ede878",
   "metadata": {},
   "outputs": [],
   "source": [
    "January = df[df['Month']==1]\n",
    "February = df[df['Month']==2]\n",
    "March = df[df['Month']==3]\n",
    "April = df[df['Month']==4]\n",
    "May = df[df['Month']==5]\n",
    "June = df[df['Month']==6]\n",
    "July = df[df['Month']==7]\n",
    "August = df[df['Month']==8]\n",
    "September = df[df['Month']==9]\n",
    "October = df[df['Month']==10]\n",
    "November = df[df['Month']==11]\n",
    "December = df[df['Month']==12]"
   ]
  },
  {
   "cell_type": "code",
   "execution_count": 69,
   "id": "a253189b",
   "metadata": {},
   "outputs": [
    {
     "data": {
      "text/plain": [
       "<AxesSubplot:>"
      ]
     },
     "execution_count": 69,
     "metadata": {},
     "output_type": "execute_result"
    },
    {
     "data": {
      "image/png": "[encoded data removed]",
      "text/plain": [
       "<Figure size 432x288 with 1 Axes>"
      ]
     },
     "metadata": {
      "needs_background": "light"
     },
     "output_type": "display_data"
    }
   ],
   "source": [
    "January.Weekly_Sales.hist()"
   ]
  },
  {
   "cell_type": "code",
   "execution_count": 70,
   "id": "fd0573fc",
   "metadata": {},
   "outputs": [
    {
     "data": {
      "text/plain": [
       "<AxesSubplot:>"
      ]
     },
     "execution_count": 70,
     "metadata": {},
     "output_type": "execute_result"
    },
    {
     "data": {
      "image/png": "[encoded data removed]",
      "text/plain": [
       "<Figure size 432x288 with 1 Axes>"
      ]
     },
     "metadata": {
      "needs_background": "light"
     },
     "output_type": "display_data"
    }
   ],
   "source": [
    "February.Weekly_Sales.hist()"
   ]
  },
  {
   "cell_type": "code",
   "execution_count": 71,
   "id": "91cf4400",
   "metadata": {},
   "outputs": [
    {
     "data": {
      "text/plain": [
       "<AxesSubplot:>"
      ]
     },
     "execution_count": 71,
     "metadata": {},
     "output_type": "execute_result"
    },
    {
     "data": {
      "image/png": "[encoded data removed]",
      "text/plain": [
       "<Figure size 432x288 with 1 Axes>"
      ]
     },
     "metadata": {
      "needs_background": "light"
     },
     "output_type": "display_data"
    }
   ],
   "source": [
    "March.Weekly_Sales.hist()"
   ]
  },
  {
   "cell_type": "code",
   "execution_count": 72,
   "id": "fff08760",
   "metadata": {},
   "outputs": [
    {
     "data": {
      "text/plain": [
       "<AxesSubplot:>"
      ]
     },
     "execution_count": 72,
     "metadata": {},
     "output_type": "execute_result"
    },
    {
     "data": {
      "image/png": "[encoded data removed]",
      "text/plain": [
       "<Figure size 432x288 with 1 Axes>"
      ]
     },
     "metadata": {
      "needs_background": "light"
     },
     "output_type": "display_data"
    }
   ],
   "source": [
    "April.Weekly_Sales.hist()"
   ]
  },
  {
   "cell_type": "code",
   "execution_count": 73,
   "id": "2493ad20",
   "metadata": {},
   "outputs": [
    {
     "data": {
      "text/plain": [
       "<AxesSubplot:>"
      ]
     },
     "execution_count": 73,
     "metadata": {},
     "output_type": "execute_result"
    },
    {
     "data": {
      "image/png": "[encoded data removed]",
      "text/plain": [
       "<Figure size 432x288 with 1 Axes>"
      ]
     },
     "metadata": {
      "needs_background": "light"
     },
     "output_type": "display_data"
    }
   ],
   "source": [
    "May.Weekly_Sales.hist()"
   ]
  },
  {
   "cell_type": "code",
   "execution_count": 74,
   "id": "07b24e4f",
   "metadata": {},
   "outputs": [
    {
     "data": {
      "text/plain": [
       "<AxesSubplot:>"
      ]
     },
     "execution_count": 74,
     "metadata": {},
     "output_type": "execute_result"
    },
    {
     "data": {
      "image/png": "[encoded data removed]",
      "text/plain": [
       "<Figure size 432x288 with 1 Axes>"
      ]
     },
     "metadata": {
      "needs_background": "light"
     },
     "output_type": "display_data"
    }
   ],
   "source": [
    "June.Weekly_Sales.hist()"
   ]
  },
  {
   "cell_type": "code",
   "execution_count": 75,
   "id": "baa8613d",
   "metadata": {},
   "outputs": [
    {
     "data": {
      "text/plain": [
       "<AxesSubplot:>"
      ]
     },
     "execution_count": 75,
     "metadata": {},
     "output_type": "execute_result"
    },
    {
     "data": {
      "image/png": "[encoded data removed]",
      "text/plain": [
       "<Figure size 432x288 with 1 Axes>"
      ]
     },
     "metadata": {
      "needs_background": "light"
     },
     "output_type": "display_data"
    }
   ],
   "source": [
    "July.Weekly_Sales.hist()"
   ]
  },
  {
   "cell_type": "code",
   "execution_count": 76,
   "id": "63a67cf4",
   "metadata": {},
   "outputs": [
    {
     "data": {
      "text/plain": [
       "<AxesSubplot:>"
      ]
     },
     "execution_count": 76,
     "metadata": {},
     "output_type": "execute_result"
    },
    {
     "data": {
      "image/png": "[encoded data removed]",
      "text/plain": [
       "<Figure size 432x288 with 1 Axes>"
      ]
     },
     "metadata": {
      "needs_background": "light"
     },
     "output_type": "display_data"
    }
   ],
   "source": [
    "August.Weekly_Sales.hist()"
   ]
  },
  {
   "cell_type": "code",
   "execution_count": 77,
   "id": "36b9fd36",
   "metadata": {},
   "outputs": [
    {
     "data": {
      "text/plain": [
       "<AxesSubplot:>"
      ]
     },
     "execution_count": 77,
     "metadata": {},
     "output_type": "execute_result"
    },
    {
     "data": {
      "image/png": "[encoded data removed]",
      "text/plain": [
       "<Figure size 432x288 with 1 Axes>"
      ]
     },
     "metadata": {
      "needs_background": "light"
     },
     "output_type": "display_data"
    }
   ],
   "source": [
    "September.Weekly_Sales.hist()"
   ]
  },
  {
   "cell_type": "code",
   "execution_count": 78,
   "id": "6eb87869",
   "metadata": {},
   "outputs": [
    {
     "data": {
      "text/plain": [
       "<AxesSubplot:>"
      ]
     },
     "execution_count": 78,
     "metadata": {},
     "output_type": "execute_result"
    },
    {
     "data": {
      "image/png": "[encoded data removed]",
      "text/plain": [
       "<Figure size 432x288 with 1 Axes>"
      ]
     },
     "metadata": {
      "needs_background": "light"
     },
     "output_type": "display_data"
    }
   ],
   "source": [
    "October.Weekly_Sales.hist()"
   ]
  },
  {
   "cell_type": "code",
   "execution_count": 79,
   "id": "50924315",
   "metadata": {},
   "outputs": [
    {
     "data": {
      "text/plain": [
       "<AxesSubplot:>"
      ]
     },
     "execution_count": 79,
     "metadata": {},
     "output_type": "execute_result"
    },
    {
     "data": {
      "image/png": "[encoded data removed]",
      "text/plain": [
       "<Figure size 432x288 with 1 Axes>"
      ]
     },
     "metadata": {
      "needs_background": "light"
     },
     "output_type": "display_data"
    }
   ],
   "source": [
    "November.Weekly_Sales.hist()"
   ]
  },
  {
   "cell_type": "markdown",
   "id": "d56a226e",
   "metadata": {},
   "source": [
    "Weekly sales for the month of November seem to be the lowest for some reason"
   ]
  },
  {
   "cell_type": "code",
   "execution_count": 80,
   "id": "51fdf4c5",
   "metadata": {},
   "outputs": [
    {
     "data": {
      "text/plain": [
       "<AxesSubplot:>"
      ]
     },
     "execution_count": 80,
     "metadata": {},
     "output_type": "execute_result"
    },
    {
     "data": {
      "image/png": "[encoded data removed]",
      "text/plain": [
       "<Figure size 432x288 with 1 Axes>"
      ]
     },
     "metadata": {
      "needs_background": "light"
     },
     "output_type": "display_data"
    }
   ],
   "source": [
    "December.Weekly_Sales.hist()"
   ]
  },
  {
   "cell_type": "code",
   "execution_count": 84,
   "id": "4b15110f",
   "metadata": {},
   "outputs": [
    {
     "data": {
      "text/plain": [
       "2797      58.74\n",
       "2798      58.74\n",
       "2799      58.74\n",
       "2800      58.74\n",
       "2801      58.74\n",
       "          ...  \n",
       "418316    48.71\n",
       "418317    48.71\n",
       "418318    48.71\n",
       "418319    48.71\n",
       "418320    48.71\n",
       "Name: Temperature, Length: 23554, dtype: float64"
      ]
     },
     "execution_count": 84,
     "metadata": {},
     "output_type": "execute_result"
    }
   ],
   "source": [
    "November.Temperature"
   ]
  },
  {
   "cell_type": "markdown",
   "id": "d54ae330",
   "metadata": {},
   "source": [
    "No"
   ]
  },
  {
   "cell_type": "code",
   "execution_count": null,
   "id": "17cf685d",
   "metadata": {},
   "outputs": [],
   "source": []
  }
 ],
 "metadata": {
  "kernelspec": {
   "display_name": "Python 3.8.8 64-bit ('base': conda)",
   "language": "python",
   "name": "python388jvsc74a57bd0b64057e63add2b45b1ffc7eab9b09c8889b419c878e2fdf0d08f837f0fc857a7"
  },
  "language_info": {
   "codemirror_mode": {
    "name": "ipython",
    "version": 3
   },
   "file_extension": ".py",
   "mimetype": "text/x-python",
   "name": "python",
   "nbconvert_exporter": "python",
   "pygments_lexer": "ipython3",
   "version": "3.8.8"
  }
 },
 "nbformat": 4,
 "nbformat_minor": 5
}
